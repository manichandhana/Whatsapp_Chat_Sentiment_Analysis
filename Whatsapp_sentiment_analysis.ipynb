{
  "nbformat": 4,
  "nbformat_minor": 0,
  "metadata": {
    "colab": {
      "provenance": []
    },
    "kernelspec": {
      "name": "python3",
      "display_name": "Python 3"
    },
    "language_info": {
      "name": "python"
    }
  },
  "cells": [
    {
      "cell_type": "code",
      "execution_count": 1,
      "metadata": {
        "id": "i8BWYl86HGWt"
      },
      "outputs": [],
      "source": [
        "import pandas as pd\n",
        "import numpy as np\n",
        "import re\n",
        "\n",
        "import matplotlib.pyplot as plt\n",
        "from PIL import Image\n",
        "\n",
        "from collections import Counter\n",
        "from wordcloud import WordCloud, STOPWORDS, ImageColorGenerator"
      ]
    },
    {
      "cell_type": "code",
      "source": [
        "conversation ='/content/whatsApp sentiment.txt'"
      ],
      "metadata": {
        "id": "6I6luAqOHVuB"
      },
      "execution_count": 16,
      "outputs": []
    },
    {
      "cell_type": "code",
      "source": [
        "def date_time(s):\n",
        "    # Define a regular expression pattern to match date and time strings\n",
        "    # in the format 'MM/DD/YYYY,HH:MMam/pm-'\n",
        "    pattern = r'^([0-9]+)(\\/)+([0-9]+)(\\/)+([0-9]+),([0-9]+)[[]?(AM|PM|am|pm)?-'\n",
        "\n",
        "    # Use the re.match function to check if the input string s matches the pattern\n",
        "    result = re.match(pattern, s)\n",
        "\n",
        "    # If a match is found (result is not None)\n",
        "    if result:\n",
        "        # Return True to indicate a valid date and time format\n",
        "        return True\n",
        "\n",
        "    # If no match is found\n",
        "    return False"
      ],
      "metadata": {
        "id": "0fDxzV14Hpz9"
      },
      "execution_count": 17,
      "outputs": []
    },
    {
      "cell_type": "code",
      "source": [
        "def find_author(s):\n",
        "    # Split the input string s using the colon ':' as the separator\n",
        "    s = s.split(\":\")\n",
        "\n",
        "    # Check if the length of the resulting list is 2\n",
        "    if len(s) == 2:\n",
        "        # If the length is 2, it means the string is in the format \"author:message\"\n",
        "        # So, we return True to indicate that an author is present\n",
        "        return True\n",
        "\n",
        "    else:\n",
        "        # If the length is not 2, it means the string is not in the expected format\n",
        "        # So, we return False to indicate that an author is not present\n",
        "        return False"
      ],
      "metadata": {
        "id": "A91cj5hoHrV2"
      },
      "execution_count": 18,
      "outputs": []
    },
    {
      "cell_type": "code",
      "source": [
        "def message(line):\n",
        "    # Split the input line by the hyphen '-'\n",
        "    splitline = line.split('-')\n",
        "\n",
        "    # The first part of the split line is expected to be the date and time\n",
        "    dateTime = splitline[0]\n",
        "\n",
        "    # Split the dateTime string by the comma ',' to separate the date and time\n",
        "    date, time = dateTime.split(',')\n",
        "\n",
        "    # Join the remaining parts of splitline (from index 1 to the end) to form the message\n",
        "    message = ''.join(splitline[1:])\n",
        "\n",
        "    # Check if the message contains an author identifier using the find_author function\n",
        "    if find_author(message):\n",
        "\n",
        "        # If an author is found, split the message by the colon ':'\n",
        "        splitmessage = message.split(':')\n",
        "\n",
        "        # The first part of the split message is expected to be the author\n",
        "        author = splitmessage[0]\n",
        "\n",
        "        # Join the remaining parts of splitmessage (from index 1 to the end) to form the message text\n",
        "        message = ''.join(splitmessage[1:])\n",
        "    else:\n",
        "        # If no author is found, set the author to None\n",
        "        author = None\n",
        "\n",
        "    # Return the extracted date, time, author, and message as a tuple\n",
        "    return date, time, author, message"
      ],
      "metadata": {
        "id": "TXpmFBKwHxIr"
      },
      "execution_count": 19,
      "outputs": []
    },
    {
      "cell_type": "code",
      "source": [
        "data = []  # Initialize an empty list to store the parsed data\n",
        "\n",
        "# Path to the conversation file\n",
        "conversation = '/content/whatsApp sentiment.txt'\n",
        "\n",
        "# Open the conversation file with UTF-8 encoding\n",
        "with open(conversation, encoding='utf-8') as fp:\n",
        "    fp.readline()  # Skip the first line (usually contains metadata)\n",
        "\n",
        "    messageBuffer = []  # Initialize an empty list to store message lines\n",
        "    date, time, author = None, None, None  # Initialize date, time, and author to None\n",
        "\n",
        "    while True:\n",
        "        line = fp.readline()  # Read a line from the file\n",
        "        if not line:  # If the line is empty (end of file reached)\n",
        "            break  # Exit the loop\n",
        "\n",
        "        line = line.strip()  # Remove leading/trailing whitespace from the line\n",
        "\n",
        "        if date_time(line):  # Check if the line matches the date and time format\n",
        "            if len(messageBuffer) > 0:  # If there are lines in the message buffer\n",
        "                # Append the parsed data (date, time, author, message) to the data list\n",
        "                data.append([date, time, author, ''.join(messageBuffer)])\n",
        "                messageBuffer.clear()  # Clear the message buffer\n",
        "\n",
        "            # Call the message function to parse the current line\n",
        "            date, time, author, message = message(line)\n",
        "            messageBuffer.append(message)  # Add the parsed message to the message buffer\n",
        "        else:\n",
        "            messageBuffer.append(line)  # Add the line to the message buffer"
      ],
      "metadata": {
        "id": "jpqmhaSqH95Y"
      },
      "execution_count": 20,
      "outputs": []
    },
    {
      "cell_type": "code",
      "source": [
        "pattern = r'^(\\d+)/(\\d+)/(\\d+), (\\d+):(\\d+) (AM|PM)'"
      ],
      "metadata": {
        "id": "wC-ig-K1IXBT"
      },
      "execution_count": 21,
      "outputs": []
    },
    {
      "cell_type": "code",
      "source": [
        "!pip install nltk\n",
        "import nltk\n",
        "nltk.download('vader_lexicon')\n"
      ],
      "metadata": {
        "colab": {
          "base_uri": "https://localhost:8080/"
        },
        "id": "CtoYPClwIyKc",
        "outputId": "d7d8c94f-007c-4630-d7aa-5d87bd08e1be"
      },
      "execution_count": 22,
      "outputs": [
        {
          "output_type": "stream",
          "name": "stdout",
          "text": [
            "Requirement already satisfied: nltk in /usr/local/lib/python3.10/dist-packages (3.8.1)\n",
            "Requirement already satisfied: click in /usr/local/lib/python3.10/dist-packages (from nltk) (8.1.7)\n",
            "Requirement already satisfied: joblib in /usr/local/lib/python3.10/dist-packages (from nltk) (1.4.2)\n",
            "Requirement already satisfied: regex>=2021.8.3 in /usr/local/lib/python3.10/dist-packages (from nltk) (2024.5.15)\n",
            "Requirement already satisfied: tqdm in /usr/local/lib/python3.10/dist-packages (from nltk) (4.66.5)\n"
          ]
        },
        {
          "output_type": "stream",
          "name": "stderr",
          "text": [
            "[nltk_data] Downloading package vader_lexicon to /root/nltk_data...\n",
            "[nltk_data]   Package vader_lexicon is already up-to-date!\n"
          ]
        },
        {
          "output_type": "execute_result",
          "data": {
            "text/plain": [
              "True"
            ]
          },
          "metadata": {},
          "execution_count": 22
        }
      ]
    },
    {
      "cell_type": "code",
      "source": [
        "import pandas as pd\n",
        "import re\n",
        "from dateutil import parser\n",
        "from nltk.sentiment.vader import SentimentIntensityAnalyzer\n",
        "\n",
        "data = []\n",
        "conversation = '/content/whatsApp sentiment.txt'\n",
        "\n",
        "with open(conversation, encoding='utf-8') as fp:\n",
        "    for line in fp:\n",
        "        line = line.strip()\n",
        "        parts = line.split(' - ', maxsplit=1)\n",
        "        if len(parts) == 2:\n",
        "            timestamp, message = parts\n",
        "            timestamp_parts = timestamp.split('] ', maxsplit=1)\n",
        "            if len(timestamp_parts) == 2:\n",
        "                date_time, author = timestamp_parts\n",
        "                try:\n",
        "                    date_time = parser.parse(date_time, fuzzy=True)\n",
        "                    date = date_time.date()\n",
        "                    time = date_time.time()\n",
        "                except ValueError:\n",
        "                    date = None\n",
        "                    time = None\n",
        "                if author == '~':\n",
        "                    author = None\n",
        "                elif ':' in author:\n",
        "                    author = author.split(': ')[0]\n",
        "                else:\n",
        "                    author = None\n",
        "            else:\n",
        "                date_time = timestamp_parts[0]\n",
        "                try:\n",
        "                    date_time = parser.parse(date_time, fuzzy=True)\n",
        "                    date = date_time.date()\n",
        "                    time = date_time.time()\n",
        "                except ValueError:\n",
        "                    date = None\n",
        "                    time = None\n",
        "                author = None\n",
        "            data.append([date, time, author, message])\n",
        "df = pd.DataFrame(data, columns=[\"Date\", 'Time', 'Author', 'Message'])\n",
        "data = df.dropna(subset=['Date'])\n",
        "# Sentiment analysis\n",
        "sentiments = SentimentIntensityAnalyzer()\n",
        "data[\"Positive\"] = [sentiments.polarity_scores(i)[\"pos\"] for i in data[\"Message\"]]\n",
        "data[\"Negative\"] = [sentiments.polarity_scores(i)[\"neg\"] for i in data[\"Message\"]]\n",
        "data[\"Neutral\"] = [sentiments.polarity_scores(i)[\"neu\"] for i in data[\"Message\"]]\n",
        "\n",
        "print(data.head(10))"
      ],
      "metadata": {
        "colab": {
          "base_uri": "https://localhost:8080/"
        },
        "id": "j20oPMOEIbW8",
        "outputId": "015a7c67-df06-4f80-9598-dc29e610a093"
      },
      "execution_count": 25,
      "outputs": [
        {
          "output_type": "stream",
          "name": "stdout",
          "text": [
            "         Date      Time Author  \\\n",
            "0  2024-08-14  08:50:00   None   \n",
            "1  2024-08-14  08:43:00   None   \n",
            "2  2024-08-14  08:43:00   None   \n",
            "3  2024-08-14  16:10:00   None   \n",
            "4  2024-08-14  16:12:00   None   \n",
            "5  2024-08-14  16:12:00   None   \n",
            "6  2024-08-14  16:14:00   None   \n",
            "7  2024-08-14  16:14:00   None   \n",
            "8  2024-08-14  16:14:00   None   \n",
            "9  2024-08-14  16:14:00   None   \n",
            "\n",
            "                                             Message  Positive  Negative  \\\n",
            "0  Messages and calls are end-to-end encrypted. N...     0.000     0.084   \n",
            "1                      Purna created group \"Project\"     0.400     0.000   \n",
            "2                                    Purna added you     0.000     0.000   \n",
            "3             Purna: Hey Teja! How's your day going?     0.000     0.000   \n",
            "4  Tejaswini: Hey Purna! Not too bad, just got ba...     0.222     0.000   \n",
            "5  Purna: Pretty good.I aced my presentation toda...     0.453     0.000   \n",
            "6               Tejaswini: That's awesome! Congrats!     0.802     0.000   \n",
            "7  Purna: Thanks! Wanna grab dinner tonight to ce...     0.535     0.000   \n",
            "8  Tejaswini: I'd love to, but I'm feeling a bit ...     0.266     0.000   \n",
            "9           Purna: Oh no, hope you feel better soon!     0.458     0.166   \n",
            "\n",
            "   Neutral  \n",
            "0    0.916  \n",
            "1    0.600  \n",
            "2    1.000  \n",
            "3    1.000  \n",
            "4    0.778  \n",
            "5    0.547  \n",
            "6    0.198  \n",
            "7    0.465  \n",
            "8    0.734  \n",
            "9    0.376  \n"
          ]
        }
      ]
    },
    {
      "cell_type": "code",
      "source": [
        "print(data['Positive'].sum())\n",
        "print(data['Negative'].sum())"
      ],
      "metadata": {
        "colab": {
          "base_uri": "https://localhost:8080/"
        },
        "id": "gyMb7nZPJR6P",
        "outputId": "11e05cd7-6898-481a-9246-9f35dd53cdbd"
      },
      "execution_count": 26,
      "outputs": [
        {
          "output_type": "stream",
          "name": "stdout",
          "text": [
            "18.035000000000004\n",
            "2.468\n"
          ]
        }
      ]
    },
    {
      "cell_type": "code",
      "source": [
        "print(data['Message'].head(10))"
      ],
      "metadata": {
        "colab": {
          "base_uri": "https://localhost:8080/"
        },
        "id": "p0By2y-DJVjT",
        "outputId": "b34b4fb5-02d0-4cce-e05a-209fa13c9277"
      },
      "execution_count": 27,
      "outputs": [
        {
          "output_type": "stream",
          "name": "stdout",
          "text": [
            "0    Messages and calls are end-to-end encrypted. N...\n",
            "1                        Purna created group \"Project\"\n",
            "2                                      Purna added you\n",
            "3               Purna: Hey Teja! How's your day going?\n",
            "4    Tejaswini: Hey Purna! Not too bad, just got ba...\n",
            "5    Purna: Pretty good.I aced my presentation toda...\n",
            "6                 Tejaswini: That's awesome! Congrats!\n",
            "7    Purna: Thanks! Wanna grab dinner tonight to ce...\n",
            "8    Tejaswini: I'd love to, but I'm feeling a bit ...\n",
            "9             Purna: Oh no, hope you feel better soon!\n",
            "Name: Message, dtype: object\n"
          ]
        }
      ]
    }
  ]
}